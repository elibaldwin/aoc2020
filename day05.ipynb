{
 "metadata": {
  "language_info": {
   "codemirror_mode": {
    "name": "ipython",
    "version": 3
   },
   "file_extension": ".py",
   "mimetype": "text/x-python",
   "name": "python",
   "nbconvert_exporter": "python",
   "pygments_lexer": "ipython3",
   "version": "3.8.3-final"
  },
  "orig_nbformat": 2,
  "kernelspec": {
   "name": "python3",
   "display_name": "Python 3"
  }
 },
 "nbformat": 4,
 "nbformat_minor": 2,
 "cells": [
  {
   "cell_type": "code",
   "execution_count": 1,
   "metadata": {},
   "outputs": [],
   "source": [
    "from aocd.models import Puzzle\n",
    "import numpy as np\n",
    "import itertools\n",
    "from collections import Counter\n",
    "puzzle = Puzzle(year=2020, day=5)"
   ]
  },
  {
   "cell_type": "code",
   "execution_count": 4,
   "metadata": {},
   "outputs": [],
   "source": [
    "X = puzzle.input_data.split()"
   ]
  },
  {
   "cell_type": "code",
   "execution_count": 21,
   "metadata": {},
   "outputs": [
    {
     "output_type": "execute_result",
     "data": {
      "text/plain": [
       "562"
      ]
     },
     "metadata": {},
     "execution_count": 21
    }
   ],
   "source": [
    "def bin(l):\n",
    "    v = 0\n",
    "    for i, c in enumerate(reversed(l)):\n",
    "        if c in 'BR':\n",
    "            v += 2**i\n",
    "    return v\n",
    "\n",
    "ids = set()\n",
    "best = 0\n",
    "for l in X:\n",
    "    best = max(best, bin(l))\n",
    "    ids.add(bin(l))\n",
    "\n",
    "full = list(range(min(ids), max(ids)+1))\n",
    "for i in full:\n",
    "    if i not in ids:\n",
    "        my_seat = i\n",
    "        break\n",
    "my_seat"
   ]
  },
  {
   "cell_type": "code",
   "execution_count": 18,
   "metadata": {},
   "outputs": [],
   "source": [
    "puzzle.answer_a = best"
   ]
  },
  {
   "cell_type": "code",
   "execution_count": 19,
   "metadata": {},
   "outputs": [],
   "source": [
    "puzzle.answer_b = my_seat"
   ]
  },
  {
   "cell_type": "code",
   "execution_count": null,
   "metadata": {},
   "outputs": [],
   "source": []
  }
 ]
}