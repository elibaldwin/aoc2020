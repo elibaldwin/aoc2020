{
 "metadata": {
  "language_info": {
   "codemirror_mode": {
    "name": "ipython",
    "version": 3
   },
   "file_extension": ".py",
   "mimetype": "text/x-python",
   "name": "python",
   "nbconvert_exporter": "python",
   "pygments_lexer": "ipython3",
   "version": "3.8.3-final"
  },
  "orig_nbformat": 2,
  "kernelspec": {
   "name": "python3",
   "display_name": "Python 3"
  }
 },
 "nbformat": 4,
 "nbformat_minor": 2,
 "cells": [
  {
   "cell_type": "code",
   "execution_count": 3,
   "metadata": {},
   "outputs": [],
   "source": [
    "from aocd.models import Puzzle\n",
    "import numpy as np\n",
    "import itertools\n",
    "from collections import Counter\n",
    "puzzle = Puzzle(year=2020, day=2)"
   ]
  },
  {
   "cell_type": "code",
   "execution_count": 2,
   "metadata": {},
   "outputs": [],
   "source": [
    "X = puzzle.input_data"
   ]
  },
  {
   "cell_type": "code",
   "execution_count": 8,
   "metadata": {},
   "outputs": [
    {
     "output_type": "execute_result",
     "data": {
      "text/plain": [
       "313"
      ]
     },
     "metadata": {},
     "execution_count": 8
    }
   ],
   "source": [
    "lines = X.split('\\n')\n",
    "res = 0\n",
    "for l in lines:\n",
    "    ls = l.split()\n",
    "    range = [int(x) for x in ls[0].split('-')]\n",
    "    #c = Counter(ls[2])\n",
    "    #if int(range[0]) <= c[ls[1][0]] <= int(range[1]):\n",
    "    #    res+=1\n",
    "    c = ls[1][0]\n",
    "    if (ls[2][range[0]-1] == c and ls[2][range[1]-1] != c) or (ls[2][range[0]-1] != c and ls[2][range[1]-1] == c):\n",
    "        res+=1\n",
    "res"
   ]
  },
  {
   "cell_type": "code",
   "execution_count": 10,
   "metadata": {},
   "outputs": [
    {
     "output_type": "stream",
     "name": "stdout",
     "text": [
      "\u001b[32mThat's the right answer!  You are one gold star closer to saving your vacation. You got rank 179 on this star's leaderboard.You have completed Day 2! You can [Shareon\n  Twitter\nMastodon] this victory or [Return to Your Advent Calendar].\u001b[0m\n"
     ]
    }
   ],
   "source": [
    "puzzle.answer_b=res"
   ]
  },
  {
   "cell_type": "code",
   "execution_count": null,
   "metadata": {},
   "outputs": [],
   "source": []
  }
 ]
}