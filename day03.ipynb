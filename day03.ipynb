{
 "metadata": {
  "language_info": {
   "codemirror_mode": {
    "name": "ipython",
    "version": 3
   },
   "file_extension": ".py",
   "mimetype": "text/x-python",
   "name": "python",
   "nbconvert_exporter": "python",
   "pygments_lexer": "ipython3",
   "version": "3.8.3-final"
  },
  "orig_nbformat": 2,
  "kernelspec": {
   "name": "python3",
   "display_name": "Python 3"
  }
 },
 "nbformat": 4,
 "nbformat_minor": 2,
 "cells": [
  {
   "cell_type": "code",
   "execution_count": 5,
   "metadata": {},
   "outputs": [],
   "source": [
    "from aocd.models import Puzzle\n",
    "import numpy as np\n",
    "import itertools\n",
    "from collections import Counter\n",
    "puzzle = Puzzle(year=2020, day=3)"
   ]
  },
  {
   "cell_type": "code",
   "execution_count": 11,
   "metadata": {},
   "outputs": [],
   "source": [
    "X = puzzle.input_data\n",
    "X = X.split('\\n')"
   ]
  },
  {
   "cell_type": "code",
   "execution_count": 16,
   "metadata": {},
   "outputs": [
    {
     "output_type": "execute_result",
     "data": {
      "text/plain": [
       "2983070376"
      ]
     },
     "metadata": {},
     "execution_count": 16
    }
   ],
   "source": [
    "\n",
    "def count_slope(X, slope):\n",
    "    dx, dy = slope\n",
    "    x, y = 0, 0\n",
    "    res = 0\n",
    "    while (y < len(X)):\n",
    "        if (X[y][(x%len(X[0]))] == '#'):\n",
    "            res += 1\n",
    "        y += dy\n",
    "        x += dx\n",
    "    return res\n",
    "\n",
    "aa = [(1, 1), (3, 1), (5, 1), (7, 1), (1, 2)]\n",
    "res = []\n",
    "for a in aa:\n",
    "    res.append(count_slope(X, a))\n",
    "np.prod(res)"
   ]
  },
  {
   "cell_type": "code",
   "execution_count": 17,
   "metadata": {},
   "outputs": [
    {
     "output_type": "stream",
     "name": "stdout",
     "text": [
      "\u001b[32mThat's the right answer!  You are one gold star closer to saving your vacation. You got rank 148 on this star's leaderboard.You have completed Day 3! You can [Shareon\n  Twitter\nMastodon] this victory or [Return to Your Advent Calendar].\u001b[0m\n"
     ]
    }
   ],
   "source": [
    "puzzle.answer_a = res[1]\n",
    "puzzle.answer_b = np.prod(res)"
   ]
  },
  {
   "cell_type": "code",
   "execution_count": null,
   "metadata": {},
   "outputs": [],
   "source": []
  }
 ]
}