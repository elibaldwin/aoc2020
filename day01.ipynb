{
 "metadata": {
  "language_info": {
   "codemirror_mode": {
    "name": "ipython",
    "version": 3
   },
   "file_extension": ".py",
   "mimetype": "text/x-python",
   "name": "python",
   "nbconvert_exporter": "python",
   "pygments_lexer": "ipython3",
   "version": "3.8.3-final"
  },
  "orig_nbformat": 2,
  "kernelspec": {
   "name": "python3",
   "display_name": "Python 3"
  }
 },
 "nbformat": 4,
 "nbformat_minor": 2,
 "cells": [
  {
   "cell_type": "code",
   "execution_count": 1,
   "metadata": {},
   "outputs": [],
   "source": [
    "from aocd.models import Puzzle\n",
    "import numpy as np"
   ]
  },
  {
   "cell_type": "code",
   "execution_count": 2,
   "metadata": {},
   "outputs": [],
   "source": [
    "puzzle = Puzzle(year=2020, day=1)"
   ]
  },
  {
   "cell_type": "code",
   "execution_count": 3,
   "metadata": {},
   "outputs": [],
   "source": [
    "X = puzzle.input_data"
   ]
  },
  {
   "cell_type": "code",
   "execution_count": 4,
   "metadata": {},
   "outputs": [
    {
     "output_type": "stream",
     "name": "stdout",
     "text": [
      "1020084\n"
     ]
    }
   ],
   "source": [
    "ns = [int(x) for x in X.split('\\n')]\n",
    "#ns = [1721, 979, 366, 299, 675, 1456]\n",
    "res = 0\n",
    "for i, n1 in enumerate(ns):\n",
    "    for j, n2 in enumerate(ns):\n",
    "        if (i != j):\n",
    "            if n1 + n2 == 2020:\n",
    "                res = n1 * n2\n",
    "                break\n",
    "    if res:\n",
    "        break\n",
    "print(res)\n",
    "puzzle.answer_a = res"
   ]
  },
  {
   "cell_type": "code",
   "execution_count": 5,
   "metadata": {},
   "outputs": [
    {
     "output_type": "stream",
     "name": "stdout",
     "text": [
      "295086480\n"
     ]
    }
   ],
   "source": [
    "res = 0\n",
    "for i, n1 in enumerate(ns):\n",
    "    for j, n2 in enumerate(ns):\n",
    "        if n1 + n2 > 2020:\n",
    "            continue\n",
    "        for k, n3 in enumerate(ns):\n",
    "            if (i != j and j != k):\n",
    "                if n1 + n2 + n3 == 2020:\n",
    "                    res = n1 * n2 * n3\n",
    "                    break\n",
    "    if res:\n",
    "        break\n",
    "print(res)\n",
    "puzzle.answer_b = res"
   ]
  },
  {
   "cell_type": "code",
   "execution_count": null,
   "metadata": {},
   "outputs": [],
   "source": []
  }
 ]
}