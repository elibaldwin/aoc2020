{
 "metadata": {
  "language_info": {
   "codemirror_mode": {
    "name": "ipython",
    "version": 3
   },
   "file_extension": ".py",
   "mimetype": "text/x-python",
   "name": "python",
   "nbconvert_exporter": "python",
   "pygments_lexer": "ipython3",
   "version": "3.8.3-final"
  },
  "orig_nbformat": 2,
  "kernelspec": {
   "name": "python3",
   "display_name": "Python 3"
  }
 },
 "nbformat": 4,
 "nbformat_minor": 2,
 "cells": [
  {
   "cell_type": "code",
   "execution_count": 2,
   "metadata": {},
   "outputs": [],
   "source": [
    "from aocd.models import Puzzle\n",
    "import numpy as np\n",
    "import itertools\n",
    "from collections import Counter\n",
    "puzzle = Puzzle(year=2020, day=4)"
   ]
  },
  {
   "cell_type": "code",
   "execution_count": 4,
   "metadata": {},
   "outputs": [],
   "source": [
    "X = puzzle.input_data\n",
    "X = X.split('\\n\\n')"
   ]
  },
  {
   "cell_type": "code",
   "execution_count": 33,
   "metadata": {},
   "outputs": [],
   "source": [
    "def validate(lbl, val):\n",
    "    if lbl == 'byr':\n",
    "        return len(val) == 4 and (1920 <= int(val) <= 2002)\n",
    "    elif lbl == 'iyr':\n",
    "        return len(val) == 4 and (2010 <= int(val) <= 2020)\n",
    "    elif lbl == 'eyr':\n",
    "        return len(val) == 4 and (2020 <= int(val) <= 2030)\n",
    "    elif lbl == 'hgt':\n",
    "        if val[-2:] == 'cm':\n",
    "            return 150 <= int(val[:-2]) <= 193\n",
    "        elif val[-2:] == 'in':\n",
    "            return 59 <= int(val[:-2]) <= 76\n",
    "        else:\n",
    "            return False\n",
    "    elif lbl == 'hcl':\n",
    "        if val[0] == '#' and len(val) == 7:\n",
    "            valid = True\n",
    "            for c in val[1:]:\n",
    "                if c not in '0123456789abcdef':\n",
    "                    valid = False\n",
    "            return valid\n",
    "        else:\n",
    "            return False\n",
    "    elif lbl == 'ecl':\n",
    "        return val in ['amb', 'blu', 'brn', 'gry', 'grn', 'hzl', 'oth']\n",
    "    elif lbl == 'pid':\n",
    "        return val.isnumeric() and len(val) == 9\n",
    "    elif lbl == 'cid':\n",
    "        return True\n",
    "        "
   ]
  },
  {
   "cell_type": "code",
   "execution_count": 27,
   "metadata": {},
   "outputs": [],
   "source": [
    "test = '''pid:087499704 hgt:74in ecl:grn iyr:2012 eyr:2030 byr:1980\n",
    "hcl:#623a2f\n",
    "\n",
    "eyr:2029 ecl:blu cid:129 byr:1989\n",
    "iyr:2014 pid:896056539 hcl:#a97842 hgt:165cm\n",
    "\n",
    "hcl:#888785\n",
    "hgt:164cm byr:2001 iyr:2015 cid:88\n",
    "pid:545766238 ecl:hzl\n",
    "eyr:2022\n",
    "\n",
    "iyr:2010 hgt:158cm hcl:#b6652a ecl:blu byr:1944 eyr:2021 pid:093154719'''\n",
    "test_X = test.split('\\n\\n')"
   ]
  },
  {
   "cell_type": "code",
   "execution_count": 37,
   "metadata": {},
   "outputs": [],
   "source": [
    "\n",
    "def count_valid(X):\n",
    "    cs = ['byr', 'iyr', 'eyr', 'hgt', 'hcl', 'ecl', 'pid']\n",
    "    s = 0\n",
    "    for l in X:\n",
    "        lbls = [x.split(':') for x in l.split()]\n",
    "        valid = True\n",
    "        for c in cs:\n",
    "            if c not in [x[0] for x in lbls]:\n",
    "                valid = False\n",
    "        for lbl, val in lbls:\n",
    "            if not validate(lbl, val):\n",
    "                valid = False\n",
    "        if valid:\n",
    "            s+=1\n",
    "    return s\n",
    "\n",
    "    "
   ]
  },
  {
   "cell_type": "code",
   "execution_count": 40,
   "metadata": {
    "tags": []
   },
   "outputs": [
    {
     "output_type": "stream",
     "name": "stdout",
     "text": [
      "\u001b[32mThat's the right answer!  You are one gold star closer to saving your vacation. You got rank 380 on this star's leaderboard.You have completed Day 4! You can [Shareon\n  Twitter\nMastodon] this victory or [Return to Your Advent Calendar].\u001b[0m\n"
     ]
    }
   ],
   "source": [
    "s = count_valid(X)\n",
    "s\n",
    "puzzle.answer_b = s"
   ]
  },
  {
   "cell_type": "code",
   "execution_count": 35,
   "metadata": {},
   "outputs": [
    {
     "output_type": "stream",
     "name": "stdout",
     "text": [
      "[['pid', '087499704'], ['hgt', '74in'], ['ecl', 'grn'], ['iyr', '2012'], ['eyr', '2030'], ['byr', '1980'], ['hcl', '#623a2f']]\nTrue\n[['eyr', '2029'], ['ecl', 'blu'], ['cid', '129'], ['byr', '1989'], ['iyr', '2014'], ['pid', '896056539'], ['hcl', '#a97842'], ['hgt', '165cm']]\nTrue\n[['hcl', '#888785'], ['hgt', '164cm'], ['byr', '2001'], ['iyr', '2015'], ['cid', '88'], ['pid', '545766238'], ['ecl', 'hzl'], ['eyr', '2022']]\nTrue\n[['iyr', '2010'], ['hgt', '158cm'], ['hcl', '#b6652a'], ['ecl', 'blu'], ['byr', '1944'], ['eyr', '2021'], ['pid', '093154719']]\nTrue\n"
     ]
    },
    {
     "output_type": "execute_result",
     "data": {
      "text/plain": [
       "4"
      ]
     },
     "metadata": {},
     "execution_count": 35
    }
   ],
   "source": []
  },
  {
   "cell_type": "code",
   "execution_count": null,
   "metadata": {},
   "outputs": [],
   "source": []
  }
 ]
}